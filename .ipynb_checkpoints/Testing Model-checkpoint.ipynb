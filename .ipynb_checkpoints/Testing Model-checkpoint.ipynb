{
 "cells": [
  {
   "cell_type": "code",
   "execution_count": 1,
   "id": "a0abc289",
   "metadata": {},
   "outputs": [],
   "source": [
    "from joblib import dump, load\n",
    "import numpy as np\n",
    "model=load('Real .joblib') "
   ]
  },
  {
   "cell_type": "code",
   "execution_count": 2,
   "id": "c3986083",
   "metadata": {},
   "outputs": [
    {
     "data": {
      "text/plain": [
       "array([33.93498965])"
      ]
     },
     "execution_count": 2,
     "metadata": {},
     "output_type": "execute_result"
    }
   ],
   "source": [
    "features=np.array([[-0.43031222,  10.03300622, -0.76454953, -0.26967994, -1.06821718,\n",
    "        0.44288387, -0.98367505,  1.88327391, -0.29807595, -0.49603496,\n",
    "       -1.06848125,  0.43295357, -0.4513261 ]])\n",
    "model.predict(features)"
   ]
  },
  {
   "cell_type": "code",
   "execution_count": null,
   "id": "b7546f9b",
   "metadata": {},
   "outputs": [],
   "source": []
  }
 ],
 "metadata": {
  "kernelspec": {
   "display_name": "Python 3 (ipykernel)",
   "language": "python",
   "name": "python3"
  },
  "language_info": {
   "codemirror_mode": {
    "name": "ipython",
    "version": 3
   },
   "file_extension": ".py",
   "mimetype": "text/x-python",
   "name": "python",
   "nbconvert_exporter": "python",
   "pygments_lexer": "ipython3",
   "version": "3.11.1"
  }
 },
 "nbformat": 4,
 "nbformat_minor": 5
}
